{
  "nbformat": 4,
  "nbformat_minor": 0,
  "metadata": {
    "colab": {
      "name": "BertKtrainEmotion.ipynb",
      "provenance": [],
      "authorship_tag": "ABX9TyNHGo88pxLDP5jfmSPJY4A9",
      "include_colab_link": true
    },
    "kernelspec": {
      "name": "python3",
      "display_name": "Python 3"
    }
  },
  "cells": [
    {
      "cell_type": "markdown",
      "metadata": {
        "id": "view-in-github",
        "colab_type": "text"
      },
      "source": [
        "<a href=\"https://colab.research.google.com/github/nadia-maarfavi/hello-world/blob/master/BertKtrainEmotion.ipynb\" target=\"_parent\"><img src=\"https://colab.research.google.com/assets/colab-badge.svg\" alt=\"Open In Colab\"/></a>"
      ]
    },
    {
      "cell_type": "code",
      "metadata": {
        "id": "y0dydee0e5Xt",
        "colab_type": "code",
        "colab": {}
      },
      "source": [
        "from google.colab import drive\n",
        "drive.mount('/content/drive')"
      ],
      "execution_count": null,
      "outputs": []
    },
    {
      "cell_type": "code",
      "metadata": {
        "id": "nj4KKsvyfAWq",
        "colab_type": "code",
        "colab": {}
      },
      "source": [
        "%tensorflow_version 1.x"
      ],
      "execution_count": null,
      "outputs": []
    },
    {
      "cell_type": "code",
      "metadata": {
        "id": "pZne7CgWfDLb",
        "colab_type": "code",
        "colab": {}
      },
      "source": [
        "import tensorflow\n",
        "print(tensorflow.__version__)"
      ],
      "execution_count": null,
      "outputs": []
    },
    {
      "cell_type": "code",
      "metadata": {
        "id": "eM1-jJgifGJf",
        "colab_type": "code",
        "colab": {}
      },
      "source": [
        "!pip install ktrain\n"
      ],
      "execution_count": null,
      "outputs": []
    },
    {
      "cell_type": "code",
      "metadata": {
        "id": "Gd-xxRdFfJhj",
        "colab_type": "code",
        "colab": {}
      },
      "source": [
        "import pandas as pd\n",
        "import numpy as np\n",
        "\n",
        "import ktrain\n",
        "from ktrain import text"
      ],
      "execution_count": null,
      "outputs": []
    },
    {
      "cell_type": "code",
      "metadata": {
        "id": "QaMDYsA3fMFD",
        "colab_type": "code",
        "colab": {}
      },
      "source": [
        "reloaded_predictor = ktrain.load_predictor(\"/content/drive/My Drive/NLP/bert_model\")"
      ],
      "execution_count": null,
      "outputs": []
    },
    {
      "cell_type": "code",
      "metadata": {
        "id": "KBOwbg5KfOfr",
        "colab_type": "code",
        "colab": {}
      },
      "source": [
        "prediction = reloaded_predictor.predict('I just broke up with my boyfriend')\n",
        "print(prediction)"
      ],
      "execution_count": null,
      "outputs": []
    },
    {
      "cell_type": "code",
      "metadata": {
        "id": "dqrXk7WIfQAd",
        "colab_type": "code",
        "colab": {}
      },
      "source": [
        "YoutubeComments = pd.read_csv('/content/drive/My Drive/NLP/YoutubeComments.csv')"
      ],
      "execution_count": null,
      "outputs": []
    },
    {
      "cell_type": "code",
      "metadata": {
        "id": "VOK9sSkLgFCQ",
        "colab_type": "code",
        "colab": {}
      },
      "source": [
        "YoutubeComments.head()"
      ],
      "execution_count": null,
      "outputs": []
    },
    {
      "cell_type": "code",
      "metadata": {
        "id": "xY3lz4iOgJ4H",
        "colab_type": "code",
        "colab": {}
      },
      "source": [
        "YoutubeComments['Emotion'] = np.nan"
      ],
      "execution_count": null,
      "outputs": []
    },
    {
      "cell_type": "code",
      "metadata": {
        "id": "iwAVarBohAU2",
        "colab_type": "code",
        "colab": {}
      },
      "source": [
        "count_row = YoutubeComments.shape[0]\n",
        "print(\"Number of rows before deleting the Null entry: \", count_row)\n",
        "YoutubeComments['Comments'].isnull().sum()\n",
        "YoutubeComments = YoutubeComments.dropna(axis = 0, subset=['Comments'])\n",
        "YoutubeComments['Comments'].isnull().sum()\n",
        "count_row = YoutubeComments.shape[0]\n",
        "print(\"Number of rows after deleting the Null entry: \",count_row)"
      ],
      "execution_count": null,
      "outputs": []
    },
    {
      "cell_type": "code",
      "metadata": {
        "id": "WM2AAiDegTGC",
        "colab_type": "code",
        "colab": {}
      },
      "source": [
        "for ind in YoutubeComments.index: \n",
        "    \n",
        "    PredictionYT = reloaded_predictor.predict(YoutubeComments['Comments'][ind])\n",
        "    YoutubeComments['Emotion'][ind]  = PredictionYT\n",
        "    print(ind)\n"
      ],
      "execution_count": null,
      "outputs": []
    },
    {
      "cell_type": "code",
      "metadata": {
        "id": "FA1YQpHOjP8e",
        "colab_type": "code",
        "colab": {}
      },
      "source": [
        "YoutubeComments.head()"
      ],
      "execution_count": null,
      "outputs": []
    },
    {
      "cell_type": "code",
      "metadata": {
        "id": "wzbyL7TCjU7v",
        "colab_type": "code",
        "colab": {}
      },
      "source": [
        "YoutubeComments.to_csv('BertKertainEmotion.csv')"
      ],
      "execution_count": null,
      "outputs": []
    }
  ]
}